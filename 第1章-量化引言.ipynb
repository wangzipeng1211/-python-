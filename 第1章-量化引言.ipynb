{
 "cells": [
  {
   "cell_type": "markdown",
   "metadata": {},
   "source": [
    "# 量化引言"
   ]
  },
  {
   "cell_type": "markdown",
   "metadata": {},
   "source": [
    "## 1.3 量化交易的优势"
   ]
  },
  {
   "cell_type": "markdown",
   "metadata": {},
   "source": [
    "### 避免短线频繁交易  \n",
    "### 避免逆势操作  \n",
    "### 避免重仓交易  \n",
    "### 避免对胜率的盲目追求  \n",
    "### 确保交易策略的执行  \n",
    "### 独立交易及对结果负责的信念  \n",
    "### 从历史验证交易策略是否可行\n",
    "### 寻找交易策略的最优参数  \n",
    "### 减少无意义的工作及干扰  "
   ]
  },
  {
   "cell_type": "code",
   "execution_count": null,
   "metadata": {},
   "outputs": [],
   "source": []
  }
 ],
 "metadata": {
  "kernelspec": {
   "display_name": "Python 3",
   "language": "python",
   "name": "python3"
  },
  "language_info": {
   "codemirror_mode": {
    "name": "ipython",
    "version": 3
   },
   "file_extension": ".py",
   "mimetype": "text/x-python",
   "name": "python",
   "nbconvert_exporter": "python",
   "pygments_lexer": "ipython3",
   "version": "3.8.5"
  }
 },
 "nbformat": 4,
 "nbformat_minor": 4
}
